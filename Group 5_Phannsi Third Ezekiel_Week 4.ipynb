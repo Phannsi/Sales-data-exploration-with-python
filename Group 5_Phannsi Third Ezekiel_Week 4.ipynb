{
 "cells": [
  {
   "cell_type": "code",
   "execution_count": 9,
   "id": "ac31af50-472d-42a4-8b48-06ff0c3b68e6",
   "metadata": {},
   "outputs": [],
   "source": [
    "# Import pandas package\n",
    "import pandas as pd\n",
    "import numpy as np"
   ]
  },
  {
   "cell_type": "code",
   "execution_count": 4,
   "id": "0a4d8e68-aeb6-4bef-be6d-2b9ac4a05cf8",
   "metadata": {},
   "outputs": [
    {
     "data": {
      "text/html": [
       "<div>\n",
       "<style scoped>\n",
       "    .dataframe tbody tr th:only-of-type {\n",
       "        vertical-align: middle;\n",
       "    }\n",
       "\n",
       "    .dataframe tbody tr th {\n",
       "        vertical-align: top;\n",
       "    }\n",
       "\n",
       "    .dataframe thead th {\n",
       "        text-align: right;\n",
       "    }\n",
       "</style>\n",
       "<table border=\"1\" class=\"dataframe\">\n",
       "  <thead>\n",
       "    <tr style=\"text-align: right;\">\n",
       "      <th></th>\n",
       "      <th>Date</th>\n",
       "      <th>Region</th>\n",
       "      <th>Category</th>\n",
       "      <th>Sales($)</th>\n",
       "      <th>ProductID</th>\n",
       "    </tr>\n",
       "  </thead>\n",
       "  <tbody>\n",
       "    <tr>\n",
       "      <th>0</th>\n",
       "      <td>01/09/2023</td>\n",
       "      <td>East</td>\n",
       "      <td>Electronics</td>\n",
       "      <td>1200.50</td>\n",
       "      <td>E1234</td>\n",
       "    </tr>\n",
       "    <tr>\n",
       "      <th>1</th>\n",
       "      <td>02/09/2023</td>\n",
       "      <td>West</td>\n",
       "      <td>Apparel</td>\n",
       "      <td>350.75</td>\n",
       "      <td>A4567</td>\n",
       "    </tr>\n",
       "    <tr>\n",
       "      <th>2</th>\n",
       "      <td>03/09/2023</td>\n",
       "      <td>North</td>\n",
       "      <td>Furniture</td>\n",
       "      <td>890.20</td>\n",
       "      <td>F7890</td>\n",
       "    </tr>\n",
       "    <tr>\n",
       "      <th>3</th>\n",
       "      <td>04/09/2023</td>\n",
       "      <td>South</td>\n",
       "      <td>Electronics</td>\n",
       "      <td>550.40</td>\n",
       "      <td>E2345</td>\n",
       "    </tr>\n",
       "    <tr>\n",
       "      <th>4</th>\n",
       "      <td>05/09/2023</td>\n",
       "      <td>East</td>\n",
       "      <td>Appliances</td>\n",
       "      <td>420.60</td>\n",
       "      <td>A6789</td>\n",
       "    </tr>\n",
       "    <tr>\n",
       "      <th>...</th>\n",
       "      <td>...</td>\n",
       "      <td>...</td>\n",
       "      <td>...</td>\n",
       "      <td>...</td>\n",
       "      <td>...</td>\n",
       "    </tr>\n",
       "    <tr>\n",
       "      <th>56</th>\n",
       "      <td>27/10/2023</td>\n",
       "      <td>North</td>\n",
       "      <td>Furniture</td>\n",
       "      <td>870.20</td>\n",
       "      <td>F3457</td>\n",
       "    </tr>\n",
       "    <tr>\n",
       "      <th>57</th>\n",
       "      <td>28/10/2023</td>\n",
       "      <td>South</td>\n",
       "      <td>Electronics</td>\n",
       "      <td>730.40</td>\n",
       "      <td>E4568</td>\n",
       "    </tr>\n",
       "    <tr>\n",
       "      <th>58</th>\n",
       "      <td>29/10/2023</td>\n",
       "      <td>East</td>\n",
       "      <td>Appliances</td>\n",
       "      <td>410.60</td>\n",
       "      <td>A6789</td>\n",
       "    </tr>\n",
       "    <tr>\n",
       "      <th>59</th>\n",
       "      <td>30/10/2023</td>\n",
       "      <td>West</td>\n",
       "      <td>Apparel</td>\n",
       "      <td>320.25</td>\n",
       "      <td>A7891</td>\n",
       "    </tr>\n",
       "    <tr>\n",
       "      <th>60</th>\n",
       "      <td>31/10/2023</td>\n",
       "      <td>West</td>\n",
       "      <td>Apparel</td>\n",
       "      <td>320.25</td>\n",
       "      <td>A789</td>\n",
       "    </tr>\n",
       "  </tbody>\n",
       "</table>\n",
       "<p>61 rows × 5 columns</p>\n",
       "</div>"
      ],
      "text/plain": [
       "          Date Region     Category  Sales($) ProductID\n",
       "0   01/09/2023   East  Electronics   1200.50     E1234\n",
       "1   02/09/2023   West      Apparel    350.75     A4567\n",
       "2   03/09/2023  North    Furniture    890.20     F7890\n",
       "3   04/09/2023  South  Electronics    550.40     E2345\n",
       "4   05/09/2023   East   Appliances    420.60     A6789\n",
       "..         ...    ...          ...       ...       ...\n",
       "56  27/10/2023  North    Furniture    870.20     F3457\n",
       "57  28/10/2023  South  Electronics    730.40     E4568\n",
       "58  29/10/2023   East   Appliances    410.60     A6789\n",
       "59  30/10/2023   West      Apparel    320.25     A7891\n",
       "60  31/10/2023   West      Apparel    320.25      A789\n",
       "\n",
       "[61 rows x 5 columns]"
      ]
     },
     "execution_count": 4,
     "metadata": {},
     "output_type": "execute_result"
    }
   ],
   "source": [
    "# loading dataset from a csv file\n",
    "sales_data = pd.read_csv(\"sales.csv\")\n",
    "\n",
    "# Get a view of the dataset\n",
    "sales_data"
   ]
  },
  {
   "cell_type": "markdown",
   "id": "d9ced1bc-7822-4858-b72f-b4408cf21b76",
   "metadata": {},
   "source": [
    "## Q1 Total Sales Per Month"
   ]
  },
  {
   "cell_type": "code",
   "execution_count": 5,
   "id": "35931d5d-46ac-4ef7-ba7b-0027d13db3ef",
   "metadata": {},
   "outputs": [
    {
     "data": {
      "text/html": [
       "<div>\n",
       "<style scoped>\n",
       "    .dataframe tbody tr th:only-of-type {\n",
       "        vertical-align: middle;\n",
       "    }\n",
       "\n",
       "    .dataframe tbody tr th {\n",
       "        vertical-align: top;\n",
       "    }\n",
       "\n",
       "    .dataframe thead th {\n",
       "        text-align: right;\n",
       "    }\n",
       "</style>\n",
       "<table border=\"1\" class=\"dataframe\">\n",
       "  <thead>\n",
       "    <tr style=\"text-align: right;\">\n",
       "      <th></th>\n",
       "      <th>Date</th>\n",
       "      <th>Region</th>\n",
       "      <th>Category</th>\n",
       "      <th>Sales($)</th>\n",
       "      <th>ProductID</th>\n",
       "      <th>DateTime</th>\n",
       "    </tr>\n",
       "  </thead>\n",
       "  <tbody>\n",
       "    <tr>\n",
       "      <th>0</th>\n",
       "      <td>01/09/2023</td>\n",
       "      <td>East</td>\n",
       "      <td>Electronics</td>\n",
       "      <td>1200.50</td>\n",
       "      <td>E1234</td>\n",
       "      <td>2023-09-01</td>\n",
       "    </tr>\n",
       "    <tr>\n",
       "      <th>1</th>\n",
       "      <td>02/09/2023</td>\n",
       "      <td>West</td>\n",
       "      <td>Apparel</td>\n",
       "      <td>350.75</td>\n",
       "      <td>A4567</td>\n",
       "      <td>2023-09-02</td>\n",
       "    </tr>\n",
       "    <tr>\n",
       "      <th>2</th>\n",
       "      <td>03/09/2023</td>\n",
       "      <td>North</td>\n",
       "      <td>Furniture</td>\n",
       "      <td>890.20</td>\n",
       "      <td>F7890</td>\n",
       "      <td>2023-09-03</td>\n",
       "    </tr>\n",
       "    <tr>\n",
       "      <th>3</th>\n",
       "      <td>04/09/2023</td>\n",
       "      <td>South</td>\n",
       "      <td>Electronics</td>\n",
       "      <td>550.40</td>\n",
       "      <td>E2345</td>\n",
       "      <td>2023-09-04</td>\n",
       "    </tr>\n",
       "    <tr>\n",
       "      <th>4</th>\n",
       "      <td>05/09/2023</td>\n",
       "      <td>East</td>\n",
       "      <td>Appliances</td>\n",
       "      <td>420.60</td>\n",
       "      <td>A6789</td>\n",
       "      <td>2023-09-05</td>\n",
       "    </tr>\n",
       "    <tr>\n",
       "      <th>...</th>\n",
       "      <td>...</td>\n",
       "      <td>...</td>\n",
       "      <td>...</td>\n",
       "      <td>...</td>\n",
       "      <td>...</td>\n",
       "      <td>...</td>\n",
       "    </tr>\n",
       "    <tr>\n",
       "      <th>56</th>\n",
       "      <td>27/10/2023</td>\n",
       "      <td>North</td>\n",
       "      <td>Furniture</td>\n",
       "      <td>870.20</td>\n",
       "      <td>F3457</td>\n",
       "      <td>2023-10-27</td>\n",
       "    </tr>\n",
       "    <tr>\n",
       "      <th>57</th>\n",
       "      <td>28/10/2023</td>\n",
       "      <td>South</td>\n",
       "      <td>Electronics</td>\n",
       "      <td>730.40</td>\n",
       "      <td>E4568</td>\n",
       "      <td>2023-10-28</td>\n",
       "    </tr>\n",
       "    <tr>\n",
       "      <th>58</th>\n",
       "      <td>29/10/2023</td>\n",
       "      <td>East</td>\n",
       "      <td>Appliances</td>\n",
       "      <td>410.60</td>\n",
       "      <td>A6789</td>\n",
       "      <td>2023-10-29</td>\n",
       "    </tr>\n",
       "    <tr>\n",
       "      <th>59</th>\n",
       "      <td>30/10/2023</td>\n",
       "      <td>West</td>\n",
       "      <td>Apparel</td>\n",
       "      <td>320.25</td>\n",
       "      <td>A7891</td>\n",
       "      <td>2023-10-30</td>\n",
       "    </tr>\n",
       "    <tr>\n",
       "      <th>60</th>\n",
       "      <td>31/10/2023</td>\n",
       "      <td>West</td>\n",
       "      <td>Apparel</td>\n",
       "      <td>320.25</td>\n",
       "      <td>A789</td>\n",
       "      <td>2023-10-31</td>\n",
       "    </tr>\n",
       "  </tbody>\n",
       "</table>\n",
       "<p>61 rows × 6 columns</p>\n",
       "</div>"
      ],
      "text/plain": [
       "          Date Region     Category  Sales($) ProductID   DateTime\n",
       "0   01/09/2023   East  Electronics   1200.50     E1234 2023-09-01\n",
       "1   02/09/2023   West      Apparel    350.75     A4567 2023-09-02\n",
       "2   03/09/2023  North    Furniture    890.20     F7890 2023-09-03\n",
       "3   04/09/2023  South  Electronics    550.40     E2345 2023-09-04\n",
       "4   05/09/2023   East   Appliances    420.60     A6789 2023-09-05\n",
       "..         ...    ...          ...       ...       ...        ...\n",
       "56  27/10/2023  North    Furniture    870.20     F3457 2023-10-27\n",
       "57  28/10/2023  South  Electronics    730.40     E4568 2023-10-28\n",
       "58  29/10/2023   East   Appliances    410.60     A6789 2023-10-29\n",
       "59  30/10/2023   West      Apparel    320.25     A7891 2023-10-30\n",
       "60  31/10/2023   West      Apparel    320.25      A789 2023-10-31\n",
       "\n",
       "[61 rows x 6 columns]"
      ]
     },
     "execution_count": 5,
     "metadata": {},
     "output_type": "execute_result"
    }
   ],
   "source": [
    "sales_data[\"DateTime\"] = pd.to_datetime(sales_data[\"Date\"], format = \"%d/%m/%Y\")\n",
    "sales_data"
   ]
  },
  {
   "cell_type": "code",
   "execution_count": 14,
   "id": "88a63bbb-46d4-4bc3-9d11-8e23bf0c28f8",
   "metadata": {},
   "outputs": [
    {
     "data": {
      "text/html": [
       "<div>\n",
       "<style scoped>\n",
       "    .dataframe tbody tr th:only-of-type {\n",
       "        vertical-align: middle;\n",
       "    }\n",
       "\n",
       "    .dataframe tbody tr th {\n",
       "        vertical-align: top;\n",
       "    }\n",
       "\n",
       "    .dataframe thead th {\n",
       "        text-align: right;\n",
       "    }\n",
       "</style>\n",
       "<table border=\"1\" class=\"dataframe\">\n",
       "  <thead>\n",
       "    <tr style=\"text-align: right;\">\n",
       "      <th></th>\n",
       "      <th>Date</th>\n",
       "      <th>Region</th>\n",
       "      <th>Category</th>\n",
       "      <th>Sales($)</th>\n",
       "      <th>ProductID</th>\n",
       "      <th>DateTime</th>\n",
       "      <th>Month</th>\n",
       "    </tr>\n",
       "  </thead>\n",
       "  <tbody>\n",
       "    <tr>\n",
       "      <th>0</th>\n",
       "      <td>01/09/2023</td>\n",
       "      <td>East</td>\n",
       "      <td>Electronics</td>\n",
       "      <td>1200.50</td>\n",
       "      <td>E1234</td>\n",
       "      <td>2023-09-01</td>\n",
       "      <td>9</td>\n",
       "    </tr>\n",
       "    <tr>\n",
       "      <th>1</th>\n",
       "      <td>02/09/2023</td>\n",
       "      <td>West</td>\n",
       "      <td>Apparel</td>\n",
       "      <td>350.75</td>\n",
       "      <td>A4567</td>\n",
       "      <td>2023-09-02</td>\n",
       "      <td>9</td>\n",
       "    </tr>\n",
       "    <tr>\n",
       "      <th>2</th>\n",
       "      <td>03/09/2023</td>\n",
       "      <td>North</td>\n",
       "      <td>Furniture</td>\n",
       "      <td>890.20</td>\n",
       "      <td>F7890</td>\n",
       "      <td>2023-09-03</td>\n",
       "      <td>9</td>\n",
       "    </tr>\n",
       "    <tr>\n",
       "      <th>3</th>\n",
       "      <td>04/09/2023</td>\n",
       "      <td>South</td>\n",
       "      <td>Electronics</td>\n",
       "      <td>550.40</td>\n",
       "      <td>E2345</td>\n",
       "      <td>2023-09-04</td>\n",
       "      <td>9</td>\n",
       "    </tr>\n",
       "    <tr>\n",
       "      <th>4</th>\n",
       "      <td>05/09/2023</td>\n",
       "      <td>East</td>\n",
       "      <td>Appliances</td>\n",
       "      <td>420.60</td>\n",
       "      <td>A6789</td>\n",
       "      <td>2023-09-05</td>\n",
       "      <td>9</td>\n",
       "    </tr>\n",
       "    <tr>\n",
       "      <th>...</th>\n",
       "      <td>...</td>\n",
       "      <td>...</td>\n",
       "      <td>...</td>\n",
       "      <td>...</td>\n",
       "      <td>...</td>\n",
       "      <td>...</td>\n",
       "      <td>...</td>\n",
       "    </tr>\n",
       "    <tr>\n",
       "      <th>56</th>\n",
       "      <td>27/10/2023</td>\n",
       "      <td>North</td>\n",
       "      <td>Furniture</td>\n",
       "      <td>870.20</td>\n",
       "      <td>F3457</td>\n",
       "      <td>2023-10-27</td>\n",
       "      <td>10</td>\n",
       "    </tr>\n",
       "    <tr>\n",
       "      <th>57</th>\n",
       "      <td>28/10/2023</td>\n",
       "      <td>South</td>\n",
       "      <td>Electronics</td>\n",
       "      <td>730.40</td>\n",
       "      <td>E4568</td>\n",
       "      <td>2023-10-28</td>\n",
       "      <td>10</td>\n",
       "    </tr>\n",
       "    <tr>\n",
       "      <th>58</th>\n",
       "      <td>29/10/2023</td>\n",
       "      <td>East</td>\n",
       "      <td>Appliances</td>\n",
       "      <td>410.60</td>\n",
       "      <td>A6789</td>\n",
       "      <td>2023-10-29</td>\n",
       "      <td>10</td>\n",
       "    </tr>\n",
       "    <tr>\n",
       "      <th>59</th>\n",
       "      <td>30/10/2023</td>\n",
       "      <td>West</td>\n",
       "      <td>Apparel</td>\n",
       "      <td>320.25</td>\n",
       "      <td>A7891</td>\n",
       "      <td>2023-10-30</td>\n",
       "      <td>10</td>\n",
       "    </tr>\n",
       "    <tr>\n",
       "      <th>60</th>\n",
       "      <td>31/10/2023</td>\n",
       "      <td>West</td>\n",
       "      <td>Apparel</td>\n",
       "      <td>320.25</td>\n",
       "      <td>A789</td>\n",
       "      <td>2023-10-31</td>\n",
       "      <td>10</td>\n",
       "    </tr>\n",
       "  </tbody>\n",
       "</table>\n",
       "<p>61 rows × 7 columns</p>\n",
       "</div>"
      ],
      "text/plain": [
       "          Date Region     Category  Sales($) ProductID   DateTime  Month\n",
       "0   01/09/2023   East  Electronics   1200.50     E1234 2023-09-01      9\n",
       "1   02/09/2023   West      Apparel    350.75     A4567 2023-09-02      9\n",
       "2   03/09/2023  North    Furniture    890.20     F7890 2023-09-03      9\n",
       "3   04/09/2023  South  Electronics    550.40     E2345 2023-09-04      9\n",
       "4   05/09/2023   East   Appliances    420.60     A6789 2023-09-05      9\n",
       "..         ...    ...          ...       ...       ...        ...    ...\n",
       "56  27/10/2023  North    Furniture    870.20     F3457 2023-10-27     10\n",
       "57  28/10/2023  South  Electronics    730.40     E4568 2023-10-28     10\n",
       "58  29/10/2023   East   Appliances    410.60     A6789 2023-10-29     10\n",
       "59  30/10/2023   West      Apparel    320.25     A7891 2023-10-30     10\n",
       "60  31/10/2023   West      Apparel    320.25      A789 2023-10-31     10\n",
       "\n",
       "[61 rows x 7 columns]"
      ]
     },
     "execution_count": 14,
     "metadata": {},
     "output_type": "execute_result"
    }
   ],
   "source": [
    "# Extract month part of the date data\n",
    "sales_data[\"Month\"] = sales_data[\"DateTime\"].dt.month\n",
    "sales_data"
   ]
  },
  {
   "cell_type": "code",
   "execution_count": 35,
   "id": "1032c782-99db-4e51-aa8f-54f888cce2f4",
   "metadata": {},
   "outputs": [
    {
     "name": "stdout",
     "output_type": "stream",
     "text": [
      "Total sales for September is: $17,924.4\n"
     ]
    }
   ],
   "source": [
    "# Total sales for September\n",
    "sept_sales_data = sales_data[sales_data[\"Month\"] == 9]\n",
    "total_sept_sales = sept_sales_data[\"Sales($)\"].sum()\n",
    "print(f'Total sales for September is: ${total_sept_sales:,}')"
   ]
  },
  {
   "cell_type": "code",
   "execution_count": 16,
   "id": "0a4cc6bb-3b13-4575-8bb6-e1fdca1faa03",
   "metadata": {},
   "outputs": [
    {
     "name": "stdout",
     "output_type": "stream",
     "text": [
      "Total sales for OCtober is: $17,354.65\n"
     ]
    }
   ],
   "source": [
    "# Total sales for October \n",
    "oct_sales_data = sales_data[sales_data[\"Month\"] == 10]\n",
    "total_oct_sales = oct_sales_data[\"Sales($)\"].sum()\n",
    "print(f'Total sales for OCtober is: ${total_oct_sales:,}')"
   ]
  },
  {
   "cell_type": "markdown",
   "id": "2a1739a2-b920-4252-b8d1-f26b16af835b",
   "metadata": {},
   "source": [
    "## Q2 What is the average daily sales for each month?"
   ]
  },
  {
   "cell_type": "code",
   "execution_count": 33,
   "id": "15ef5820-d5c4-4f04-8b99-b0e9351da17a",
   "metadata": {},
   "outputs": [
    {
     "data": {
      "text/plain": [
       "597.48"
      ]
     },
     "execution_count": 33,
     "metadata": {},
     "output_type": "execute_result"
    }
   ],
   "source": [
    "# # Calculate average daily sales for September\n",
    "# sept_sales_data = sales_data[:30]\n",
    "# avg_daily_sales_in_sept = sept_sales_data[\"Sales($)\"].mean()\n",
    "# round(avg_daily_sales_in_sept, 2)\n",
    "\n",
    "sept_avg_daily_sales = sept_sales_data[\"Sales($)\"].mean()\n",
    "sept_avg_daily_sales"
   ]
  },
  {
   "cell_type": "code",
   "execution_count": 32,
   "id": "dd6b4d46-714f-4b7b-97c0-e7a3cfa5f1ce",
   "metadata": {},
   "outputs": [
    {
     "data": {
      "text/plain": [
       "559.8274193548388"
      ]
     },
     "execution_count": 32,
     "metadata": {},
     "output_type": "execute_result"
    }
   ],
   "source": [
    "# # #For October, the average daily sales is\n",
    "# # avg_daily_sales_in_oct = oct_sales_data[\"Sales($)\"].mean()\n",
    "# # round(avg_daily_sales_in_oct\n",
    "# oct_avg_daily_sales = total_oct_sales.mean()\n",
    "# oct_avg_daily_sales\n",
    "\n",
    "oct_avg_daily_sales = oct_sales_data[\"Sales($)\"].mean()\n",
    "oct_avg_daily_sales"
   ]
  },
  {
   "cell_type": "markdown",
   "id": "bde4be3f-4fcf-4028-bb3b-2280101651c7",
   "metadata": {},
   "source": [
    "## Q3 What Region generated the highest sales?"
   ]
  },
  {
   "cell_type": "code",
   "execution_count": 22,
   "id": "be173148-b661-4597-b410-b85ab4144242",
   "metadata": {},
   "outputs": [
    {
     "data": {
      "text/plain": [
       "Region\n",
       "North    12767.0\n",
       "Name: Sales($), dtype: float64"
      ]
     },
     "execution_count": 22,
     "metadata": {},
     "output_type": "execute_result"
    }
   ],
   "source": [
    "#region that generated highest sales\n",
    "region_with_sales_generated = sales_data.groupby(\"Region\")[\"Sales($)\"].sum()\n",
    "region_with_sales_generated.sort_values(ascending=False).head(1)"
   ]
  },
  {
   "cell_type": "markdown",
   "id": "eabc4f10-c86e-4013-bb43-7e25c2f3d2f6",
   "metadata": {},
   "source": [
    "## Q4 Category with lowest impact"
   ]
  },
  {
   "cell_type": "code",
   "execution_count": 28,
   "id": "8f082dfc-1482-4f35-ba14-9fa261def93b",
   "metadata": {},
   "outputs": [
    {
     "data": {
      "text/plain": [
       "Category\n",
       "Appliances    5878.3\n",
       "Name: Sales($), dtype: float64"
      ]
     },
     "execution_count": 28,
     "metadata": {},
     "output_type": "execute_result"
    }
   ],
   "source": [
    "# Category with lowest impact\n",
    "cat_sales = sales_data.groupby(\"Category\")[\"Sales($)\"].sum()\n",
    "cat_sales.sort_values().head(1)"
   ]
  },
  {
   "cell_type": "markdown",
   "id": "e92f48df-5fbf-4627-bfc6-6c4ecc75b233",
   "metadata": {},
   "source": [
    "## Q5 Top Selling Products"
   ]
  },
  {
   "cell_type": "code",
   "execution_count": 27,
   "id": "d6ab4eb8-ecc8-4b65-8082-0d6bde334a26",
   "metadata": {},
   "outputs": [
    {
     "data": {
      "text/plain": [
       "ProductID\n",
       "A6789    6\n",
       "A1234    5\n",
       "E2345    4\n",
       "F5678    4\n",
       "E4568    2\n",
       "Name: count, dtype: int64"
      ]
     },
     "execution_count": 27,
     "metadata": {},
     "output_type": "execute_result"
    }
   ],
   "source": [
    "# Top selling products by sales\n",
    "top_prod_by_quantity = sales_data[\"ProductID\"].value_counts().head()\n",
    "top_prod_by_quantity"
   ]
  },
  {
   "cell_type": "code",
   "execution_count": 36,
   "id": "203a9d2a-36eb-480e-8cae-b0487c2a8f7a",
   "metadata": {},
   "outputs": [
    {
     "data": {
      "text/plain": [
       "ProductID  Category   \n",
       "F5678      Furniture      3642.2\n",
       "E2345      Electronics    2621.4\n",
       "A6789      Appliances     2413.5\n",
       "F1236      Furniture      1841.8\n",
       "F3457      Furniture      1740.4\n",
       "Name: Sales($), dtype: float64"
      ]
     },
     "execution_count": 36,
     "metadata": {},
     "output_type": "execute_result"
    }
   ],
   "source": [
    "## Top selling product by revenue\n",
    "top_product_by_revenue = sales_data.groupby([\"ProductID\", \"Category\"])[\"Sales($)\"].sum().nlargest(5)\n",
    "top_product_by_revenue"
   ]
  },
  {
   "cell_type": "markdown",
   "id": "5416a5c4-f035-4133-934a-dafa2a129c93",
   "metadata": {},
   "source": [
    "## Recommendation to improve sales in November"
   ]
  },
  {
   "cell_type": "raw",
   "id": "12e29717-e754-41a8-8461-81d10cc17382",
   "metadata": {},
   "source": [
    "1. Embarking on promotions/bonanzas for the North Region which is already doing well\n",
    "2. Exploring the possibility of introducing new products in low sale regions since the existing products arent doing well"
   ]
  },
  {
   "cell_type": "code",
   "execution_count": null,
   "id": "bf74ab04-6b0a-4c63-9aa0-979eae4f778c",
   "metadata": {},
   "outputs": [],
   "source": []
  }
 ],
 "metadata": {
  "kernelspec": {
   "display_name": "Python 3 (ipykernel)",
   "language": "python",
   "name": "python3"
  },
  "language_info": {
   "codemirror_mode": {
    "name": "ipython",
    "version": 3
   },
   "file_extension": ".py",
   "mimetype": "text/x-python",
   "name": "python",
   "nbconvert_exporter": "python",
   "pygments_lexer": "ipython3",
   "version": "3.11.7"
  }
 },
 "nbformat": 4,
 "nbformat_minor": 5
}
